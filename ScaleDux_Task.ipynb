{
  "nbformat": 4,
  "nbformat_minor": 0,
  "metadata": {
    "colab": {
      "provenance": [],
      "gpuType": "T4"
    },
    "kernelspec": {
      "name": "python3",
      "display_name": "Python 3"
    },
    "language_info": {
      "name": "python"
    },
    "accelerator": "GPU"
  },
  "cells": [
    {
      "cell_type": "code",
      "source": [
        "# Folder Containing PDF Files\n",
        "\n",
        "folder_path = \"/content/drive/MyDrive/ScaleDux_Task\""
      ],
      "metadata": {
        "id": "o8ruMZkxZQCJ"
      },
      "execution_count": null,
      "outputs": []
    },
    {
      "cell_type": "code",
      "source": [
        "# Installing BAsic Libraries\n",
        "!pip install pymupdf pandas textblob spacy matplotlib seaborn\n"
      ],
      "metadata": {
        "colab": {
          "base_uri": "https://localhost:8080/"
        },
        "id": "rImFDHtoGYVs",
        "outputId": "34805fdc-7bc9-4ac5-e277-3365e5e2440b"
      },
      "execution_count": 2,
      "outputs": [
        {
          "output_type": "stream",
          "name": "stdout",
          "text": [
            "Collecting pymupdf\n",
            "  Downloading pymupdf-1.26.3-cp39-abi3-manylinux_2_28_x86_64.whl.metadata (3.4 kB)\n",
            "Requirement already satisfied: pandas in /usr/local/lib/python3.11/dist-packages (2.2.2)\n",
            "Requirement already satisfied: textblob in /usr/local/lib/python3.11/dist-packages (0.19.0)\n",
            "Requirement already satisfied: spacy in /usr/local/lib/python3.11/dist-packages (3.8.7)\n",
            "Requirement already satisfied: matplotlib in /usr/local/lib/python3.11/dist-packages (3.10.0)\n",
            "Requirement already satisfied: seaborn in /usr/local/lib/python3.11/dist-packages (0.13.2)\n",
            "Requirement already satisfied: numpy>=1.23.2 in /usr/local/lib/python3.11/dist-packages (from pandas) (2.0.2)\n",
            "Requirement already satisfied: python-dateutil>=2.8.2 in /usr/local/lib/python3.11/dist-packages (from pandas) (2.9.0.post0)\n",
            "Requirement already satisfied: pytz>=2020.1 in /usr/local/lib/python3.11/dist-packages (from pandas) (2025.2)\n",
            "Requirement already satisfied: tzdata>=2022.7 in /usr/local/lib/python3.11/dist-packages (from pandas) (2025.2)\n",
            "Requirement already satisfied: nltk>=3.9 in /usr/local/lib/python3.11/dist-packages (from textblob) (3.9.1)\n",
            "Requirement already satisfied: spacy-legacy<3.1.0,>=3.0.11 in /usr/local/lib/python3.11/dist-packages (from spacy) (3.0.12)\n",
            "Requirement already satisfied: spacy-loggers<2.0.0,>=1.0.0 in /usr/local/lib/python3.11/dist-packages (from spacy) (1.0.5)\n",
            "Requirement already satisfied: murmurhash<1.1.0,>=0.28.0 in /usr/local/lib/python3.11/dist-packages (from spacy) (1.0.13)\n",
            "Requirement already satisfied: cymem<2.1.0,>=2.0.2 in /usr/local/lib/python3.11/dist-packages (from spacy) (2.0.11)\n",
            "Requirement already satisfied: preshed<3.1.0,>=3.0.2 in /usr/local/lib/python3.11/dist-packages (from spacy) (3.0.10)\n",
            "Requirement already satisfied: thinc<8.4.0,>=8.3.4 in /usr/local/lib/python3.11/dist-packages (from spacy) (8.3.6)\n",
            "Requirement already satisfied: wasabi<1.2.0,>=0.9.1 in /usr/local/lib/python3.11/dist-packages (from spacy) (1.1.3)\n",
            "Requirement already satisfied: srsly<3.0.0,>=2.4.3 in /usr/local/lib/python3.11/dist-packages (from spacy) (2.5.1)\n",
            "Requirement already satisfied: catalogue<2.1.0,>=2.0.6 in /usr/local/lib/python3.11/dist-packages (from spacy) (2.0.10)\n",
            "Requirement already satisfied: weasel<0.5.0,>=0.1.0 in /usr/local/lib/python3.11/dist-packages (from spacy) (0.4.1)\n",
            "Requirement already satisfied: typer<1.0.0,>=0.3.0 in /usr/local/lib/python3.11/dist-packages (from spacy) (0.16.0)\n",
            "Requirement already satisfied: tqdm<5.0.0,>=4.38.0 in /usr/local/lib/python3.11/dist-packages (from spacy) (4.67.1)\n",
            "Requirement already satisfied: requests<3.0.0,>=2.13.0 in /usr/local/lib/python3.11/dist-packages (from spacy) (2.32.3)\n",
            "Requirement already satisfied: pydantic!=1.8,!=1.8.1,<3.0.0,>=1.7.4 in /usr/local/lib/python3.11/dist-packages (from spacy) (2.11.7)\n",
            "Requirement already satisfied: jinja2 in /usr/local/lib/python3.11/dist-packages (from spacy) (3.1.6)\n",
            "Requirement already satisfied: setuptools in /usr/local/lib/python3.11/dist-packages (from spacy) (75.2.0)\n",
            "Requirement already satisfied: packaging>=20.0 in /usr/local/lib/python3.11/dist-packages (from spacy) (25.0)\n",
            "Requirement already satisfied: langcodes<4.0.0,>=3.2.0 in /usr/local/lib/python3.11/dist-packages (from spacy) (3.5.0)\n",
            "Requirement already satisfied: contourpy>=1.0.1 in /usr/local/lib/python3.11/dist-packages (from matplotlib) (1.3.2)\n",
            "Requirement already satisfied: cycler>=0.10 in /usr/local/lib/python3.11/dist-packages (from matplotlib) (0.12.1)\n",
            "Requirement already satisfied: fonttools>=4.22.0 in /usr/local/lib/python3.11/dist-packages (from matplotlib) (4.59.0)\n",
            "Requirement already satisfied: kiwisolver>=1.3.1 in /usr/local/lib/python3.11/dist-packages (from matplotlib) (1.4.8)\n",
            "Requirement already satisfied: pillow>=8 in /usr/local/lib/python3.11/dist-packages (from matplotlib) (11.3.0)\n",
            "Requirement already satisfied: pyparsing>=2.3.1 in /usr/local/lib/python3.11/dist-packages (from matplotlib) (3.2.3)\n",
            "Requirement already satisfied: language-data>=1.2 in /usr/local/lib/python3.11/dist-packages (from langcodes<4.0.0,>=3.2.0->spacy) (1.3.0)\n",
            "Requirement already satisfied: click in /usr/local/lib/python3.11/dist-packages (from nltk>=3.9->textblob) (8.2.1)\n",
            "Requirement already satisfied: joblib in /usr/local/lib/python3.11/dist-packages (from nltk>=3.9->textblob) (1.5.1)\n",
            "Requirement already satisfied: regex>=2021.8.3 in /usr/local/lib/python3.11/dist-packages (from nltk>=3.9->textblob) (2024.11.6)\n",
            "Requirement already satisfied: annotated-types>=0.6.0 in /usr/local/lib/python3.11/dist-packages (from pydantic!=1.8,!=1.8.1,<3.0.0,>=1.7.4->spacy) (0.7.0)\n",
            "Requirement already satisfied: pydantic-core==2.33.2 in /usr/local/lib/python3.11/dist-packages (from pydantic!=1.8,!=1.8.1,<3.0.0,>=1.7.4->spacy) (2.33.2)\n",
            "Requirement already satisfied: typing-extensions>=4.12.2 in /usr/local/lib/python3.11/dist-packages (from pydantic!=1.8,!=1.8.1,<3.0.0,>=1.7.4->spacy) (4.14.1)\n",
            "Requirement already satisfied: typing-inspection>=0.4.0 in /usr/local/lib/python3.11/dist-packages (from pydantic!=1.8,!=1.8.1,<3.0.0,>=1.7.4->spacy) (0.4.1)\n",
            "Requirement already satisfied: six>=1.5 in /usr/local/lib/python3.11/dist-packages (from python-dateutil>=2.8.2->pandas) (1.17.0)\n",
            "Requirement already satisfied: charset-normalizer<4,>=2 in /usr/local/lib/python3.11/dist-packages (from requests<3.0.0,>=2.13.0->spacy) (3.4.2)\n",
            "Requirement already satisfied: idna<4,>=2.5 in /usr/local/lib/python3.11/dist-packages (from requests<3.0.0,>=2.13.0->spacy) (3.10)\n",
            "Requirement already satisfied: urllib3<3,>=1.21.1 in /usr/local/lib/python3.11/dist-packages (from requests<3.0.0,>=2.13.0->spacy) (2.5.0)\n",
            "Requirement already satisfied: certifi>=2017.4.17 in /usr/local/lib/python3.11/dist-packages (from requests<3.0.0,>=2.13.0->spacy) (2025.7.14)\n",
            "Requirement already satisfied: blis<1.4.0,>=1.3.0 in /usr/local/lib/python3.11/dist-packages (from thinc<8.4.0,>=8.3.4->spacy) (1.3.0)\n",
            "Requirement already satisfied: confection<1.0.0,>=0.0.1 in /usr/local/lib/python3.11/dist-packages (from thinc<8.4.0,>=8.3.4->spacy) (0.1.5)\n",
            "Requirement already satisfied: shellingham>=1.3.0 in /usr/local/lib/python3.11/dist-packages (from typer<1.0.0,>=0.3.0->spacy) (1.5.4)\n",
            "Requirement already satisfied: rich>=10.11.0 in /usr/local/lib/python3.11/dist-packages (from typer<1.0.0,>=0.3.0->spacy) (13.9.4)\n",
            "Requirement already satisfied: cloudpathlib<1.0.0,>=0.7.0 in /usr/local/lib/python3.11/dist-packages (from weasel<0.5.0,>=0.1.0->spacy) (0.21.1)\n",
            "Requirement already satisfied: smart-open<8.0.0,>=5.2.1 in /usr/local/lib/python3.11/dist-packages (from weasel<0.5.0,>=0.1.0->spacy) (7.3.0.post1)\n",
            "Requirement already satisfied: MarkupSafe>=2.0 in /usr/local/lib/python3.11/dist-packages (from jinja2->spacy) (3.0.2)\n",
            "Requirement already satisfied: marisa-trie>=1.1.0 in /usr/local/lib/python3.11/dist-packages (from language-data>=1.2->langcodes<4.0.0,>=3.2.0->spacy) (1.2.1)\n",
            "Requirement already satisfied: markdown-it-py>=2.2.0 in /usr/local/lib/python3.11/dist-packages (from rich>=10.11.0->typer<1.0.0,>=0.3.0->spacy) (3.0.0)\n",
            "Requirement already satisfied: pygments<3.0.0,>=2.13.0 in /usr/local/lib/python3.11/dist-packages (from rich>=10.11.0->typer<1.0.0,>=0.3.0->spacy) (2.19.2)\n",
            "Requirement already satisfied: wrapt in /usr/local/lib/python3.11/dist-packages (from smart-open<8.0.0,>=5.2.1->weasel<0.5.0,>=0.1.0->spacy) (1.17.2)\n",
            "Requirement already satisfied: mdurl~=0.1 in /usr/local/lib/python3.11/dist-packages (from markdown-it-py>=2.2.0->rich>=10.11.0->typer<1.0.0,>=0.3.0->spacy) (0.1.2)\n",
            "Downloading pymupdf-1.26.3-cp39-abi3-manylinux_2_28_x86_64.whl (24.1 MB)\n",
            "\u001b[2K   \u001b[90m━━━━━━━━━━━━━━━━━━━━━━━━━━━━━━━━━━━━━━━━\u001b[0m \u001b[32m24.1/24.1 MB\u001b[0m \u001b[31m51.3 MB/s\u001b[0m eta \u001b[36m0:00:00\u001b[0m\n",
            "\u001b[?25hInstalling collected packages: pymupdf\n",
            "Successfully installed pymupdf-1.26.3\n"
          ]
        }
      ]
    },
    {
      "cell_type": "code",
      "source": [
        "# Extracting & Preprocessing Text\n",
        "\n",
        "import fitz  # PyMuPDF\n",
        "import os\n",
        "import re\n",
        "\n",
        "def extract_text_from_pdf(pdf_path):\n",
        "    doc = fitz.open(pdf_path)\n",
        "    text = \"\"\n",
        "    for page in doc:\n",
        "        text += page.get_text() + \"\\n\"\n",
        "    return text\n",
        "\n",
        "def preprocess_text(raw_text):\n",
        "    cleaned = re.sub(r'\\n+', '\\n', raw_text)\n",
        "    slides = cleaned.split('\\n\\n')\n",
        "    return [slide.strip() for slide in slides if slide.strip()]\n"
      ],
      "metadata": {
        "id": "ApeD21tTGVA-"
      },
      "execution_count": null,
      "outputs": []
    },
    {
      "cell_type": "code",
      "source": [
        "# Keywords Sectioning\n",
        "\n",
        "SECTION_KEYWORDS = {\n",
        "    'Problem': ['problem', 'pain point', 'challenge'],\n",
        "    'Solution': ['solution', 'how we solve'],\n",
        "    'Market': ['market size', 'TAM', 'opportunity'],\n",
        "    'Traction': ['users', 'growth', 'metrics', 'MoM'],\n",
        "    'Business Model': ['business model', 'revenue', 'subscription'],\n",
        "    'Team': ['team', 'founder', 'background'],\n",
        "    'Ask': ['ask', 'funding', 'raise']\n",
        "}\n",
        "\n",
        "def categorize_slides(slides):\n",
        "    categories = {key: [] for key in SECTION_KEYWORDS}\n",
        "    categories['Other'] = []\n",
        "\n",
        "    for slide in slides:\n",
        "        matched = False\n",
        "        lower = slide.lower()\n",
        "        for category, keywords in SECTION_KEYWORDS.items():\n",
        "            if any(kw in lower for kw in keywords):\n",
        "                categories[category].append(slide)\n",
        "                matched = True\n",
        "                break\n",
        "        if not matched:\n",
        "            categories['Other'].append(slide)\n",
        "    return categories\n"
      ],
      "metadata": {
        "id": "qlx9G2sSHFlO"
      },
      "execution_count": null,
      "outputs": []
    },
    {
      "cell_type": "code",
      "source": [
        "# Scoring Keywords\n",
        "\n",
        "from textblob import TextBlob\n",
        "import spacy\n",
        "nlp = spacy.load(\"en_core_web_sm\")\n",
        "\n",
        "SCORE_KEYWORDS = {\n",
        "    'Problem Clarity': ['problem', 'pain', 'need'],\n",
        "    'Market Potential': ['billion', 'TAM', 'market', 'growth'],\n",
        "    'Traction Strength': ['growth', 'metrics', 'users', 'downloads'],\n",
        "    'Team Experience': ['founder', 'mba', 'phd', 'experience'],\n",
        "    'Business Model': ['subscription', 'SaaS', 'transaction'],\n",
        "    'Vision / Moat': ['moat', 'IP', 'advantage', 'unique']\n",
        "}\n",
        "\n",
        "def score_section(text, keywords):\n",
        "    score = 0\n",
        "    lower = text.lower()\n",
        "    score += sum(1 for kw in keywords if kw in lower)\n",
        "    score += 1 if TextBlob(text).sentiment.polarity > 0.3 else 0\n",
        "    return min(score, 10)\n",
        "\n",
        "def score_deck(categorized):\n",
        "    scores = {}\n",
        "    for dimension, keywords in SCORE_KEYWORDS.items():\n",
        "        score = 0\n",
        "        for section in categorized.values():\n",
        "            for slide in section:\n",
        "                score += score_section(slide, keywords)\n",
        "        scores[dimension] = min(score, 10)\n",
        "    scores[\"Total\"] = sum(scores.values())\n",
        "    scores[\"Normalized Score\"] = round(scores[\"Total\"] / 60 * 100, 2)\n",
        "    return scores\n"
      ],
      "metadata": {
        "id": "_-rJYy46HVBG"
      },
      "execution_count": null,
      "outputs": []
    },
    {
      "cell_type": "code",
      "source": [
        "# Processing All PDF From the Folder\n",
        "\n",
        "import pandas as pd\n",
        "\n",
        "def get_all_pdfs(folder_path):\n",
        "    return [os.path.join(folder_path, f) for f in os.listdir(folder_path) if f.endswith(\".pdf\")]\n",
        "\n",
        "results = {}\n",
        "scores = {}\n",
        "\n",
        "for pdf_file in get_all_pdfs(\"/content/drive/MyDrive/ScaleDux_Task\"):\n",
        "    raw = extract_text_from_pdf(pdf_file)\n",
        "    slides = preprocess_text(raw)\n",
        "    categorized = categorize_slides(slides)\n",
        "    results[os.path.basename(pdf_file)] = categorized\n",
        "    scores[os.path.basename(pdf_file)] = score_deck(categorized)\n"
      ],
      "metadata": {
        "id": "aB2n6jiaHjRX"
      },
      "execution_count": null,
      "outputs": []
    },
    {
      "cell_type": "code",
      "source": [
        "# Saving the Pitch Scores\n",
        "\n",
        "score_df = pd.DataFrame.from_dict(scores, orient='index')\n",
        "score_df.reset_index(inplace=True)\n",
        "score_df.rename(columns={\"index\": \"Deck Name\"}, inplace=True)\n",
        "score_df.to_csv(\"pitch_scores.csv\", index=False)\n"
      ],
      "metadata": {
        "id": "TOdU9ig6Hy7_"
      },
      "execution_count": null,
      "outputs": []
    },
    {
      "cell_type": "code",
      "source": [
        "# Visualizing\n",
        "\n",
        "import seaborn as sns\n",
        "import matplotlib.pyplot as plt\n",
        "\n",
        "plt.figure(figsize=(10, 6))\n",
        "sns.barplot(data=score_df.sort_values(\"Normalized Score\", ascending=False),\n",
        "            x=\"Normalized Score\", y=\"Deck Name\", palette=\"viridis\")\n",
        "plt.title(\"Startup Pitch Deck Scores\")\n",
        "plt.xlabel(\"Score (out of 100)\")\n",
        "plt.tight_layout()\n",
        "plt.show()\n"
      ],
      "metadata": {
        "colab": {
          "base_uri": "https://localhost:8080/",
          "height": 685
        },
        "id": "FP0bEUK8H2xe",
        "outputId": "d0dfa6ab-e636-40f7-ceb9-6627f3cf2e6a"
      },
      "execution_count": null,
      "outputs": [
        {
          "output_type": "stream",
          "name": "stderr",
          "text": [
            "/tmp/ipython-input-9-2779491742.py:5: FutureWarning: \n",
            "\n",
            "Passing `palette` without assigning `hue` is deprecated and will be removed in v0.14.0. Assign the `y` variable to `hue` and set `legend=False` for the same effect.\n",
            "\n",
            "  sns.barplot(data=score_df.sort_values(\"Normalized Score\", ascending=False),\n"
          ]
        },
        {
          "output_type": "display_data",
          "data": {
            "text/plain": [
              "<Figure size 1000x600 with 1 Axes>"
            ],
            "image/png": "[encoded data removed]"
          },
          "metadata": {}
        }
      ]
    },
    {
      "cell_type": "code",
      "source": [
        "# Reading the Pitch Scores from csv\n",
        "\n",
        "df = pd.read_csv(\"pitch_scores.csv\")"
      ],
      "metadata": {
        "id": "MDx3qpC_JQav"
      },
      "execution_count": null,
      "outputs": []
    },
    {
      "cell_type": "code",
      "source": [
        "df"
      ],
      "metadata": {
        "colab": {
          "base_uri": "https://localhost:8080/"
        },
        "id": "svbyGmdXJWuF",
        "outputId": "3a11b7e2-fa0a-4188-e76d-3a7bdfe2b738"
      },
      "execution_count": null,
      "outputs": [
        {
          "output_type": "execute_result",
          "data": {
            "text/plain": [
              "(<module 'pandas' from '/usr/local/lib/python3.11/dist-packages/pandas/__init__.py'>,\n",
              "                                            Deck Name  Problem Clarity  \\\n",
              " 0                      Pitch-Example-Air-BnB-PDF.pdf                1   \n",
              " 1                                uber-pitch-deck.pdf                0   \n",
              " 2                            doordash-pitch-deck.pdf                0   \n",
              " 3                                       FACEBOOK.pdf                0   \n",
              " 4  6737d05825e11f73f6d5a289_Ndc8GMUtaMNHOXDfqftyW...                0   \n",
              " \n",
              "    Market Potential  Traction Strength  Team Experience  Business Model  \\\n",
              " 0                 2                  1                0               1   \n",
              " 1                 0                  0                0               0   \n",
              " 2                 0                  0                0               0   \n",
              " 3                 0                  0                0               0   \n",
              " 4                 0                  0                0               0   \n",
              " \n",
              "    Vision / Moat  Total  Normalized Score  \n",
              " 0              1      6              10.0  \n",
              " 1              0      0               0.0  \n",
              " 2              0      0               0.0  \n",
              " 3              0      0               0.0  \n",
              " 4              0      0               0.0  )"
            ]
          },
          "metadata": {},
          "execution_count": 17
        }
      ]
    },
    {
      "cell_type": "code",
      "source": [],
      "metadata": {
        "id": "lg73p2vbLs6S"
      },
      "execution_count": null,
      "outputs": []
    }
  ]
}